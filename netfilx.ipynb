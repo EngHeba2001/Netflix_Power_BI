{
  "cells": [
    {
      "cell_type": "markdown",
      "metadata": {
        "id": "lJaDsliHspeB"
      },
      "source": [
        "## Netflix_Data\n"
      ]
    },
    {
      "cell_type": "code",
      "execution_count": null,
      "metadata": {
        "id": "kMvQFb5yspeC"
      },
      "outputs": [],
      "source": [
        "import numpy as np\n",
        "import pandas as pd\n",
        "import seaborn as sns\n",
        "import matplotlib.pyplot as plt"
      ]
    },
    {
      "cell_type": "markdown",
      "metadata": {
        "id": "T4SE4BgHspeD"
      },
      "source": [
        "## read_Data\n"
      ]
    },
    {
      "cell_type": "code",
      "execution_count": null,
      "metadata": {
        "id": "AKek2IOKspeD",
        "outputId": "a7034424-a12a-4fb0-fb95-0ba7514165ad"
      },
      "outputs": [
        {
          "data": {
            "text/html": [
              "<div>\n",
              "<style scoped>\n",
              "    .dataframe tbody tr th:only-of-type {\n",
              "        vertical-align: middle;\n",
              "    }\n",
              "\n",
              "    .dataframe tbody tr th {\n",
              "        vertical-align: top;\n",
              "    }\n",
              "\n",
              "    .dataframe thead th {\n",
              "        text-align: right;\n",
              "    }\n",
              "</style>\n",
              "<table border=\"1\" class=\"dataframe\">\n",
              "  <thead>\n",
              "    <tr style=\"text-align: right;\">\n",
              "      <th></th>\n",
              "      <th>ssshow_id</th>\n",
              "      <th>type</th>\n",
              "      <th>title</th>\n",
              "      <th>director</th>\n",
              "      <th>cast</th>\n",
              "      <th>country</th>\n",
              "      <th>date_added</th>\n",
              "      <th>release_year</th>\n",
              "      <th>rating</th>\n",
              "      <th>duration</th>\n",
              "      <th>listed_in</th>\n",
              "      <th>description</th>\n",
              "    </tr>\n",
              "  </thead>\n",
              "  <tbody>\n",
              "    <tr>\n",
              "      <th>0</th>\n",
              "      <td>s1</td>\n",
              "      <td>Movie</td>\n",
              "      <td>Dick Johnson Is Dead</td>\n",
              "      <td>Kirsten Johnson</td>\n",
              "      <td>NaN</td>\n",
              "      <td>United States</td>\n",
              "      <td>September 25, 2021</td>\n",
              "      <td>2020</td>\n",
              "      <td>PG-13</td>\n",
              "      <td>90 min</td>\n",
              "      <td>Documentaries</td>\n",
              "      <td>As her father nears the end of his life, filmm...</td>\n",
              "    </tr>\n",
              "    <tr>\n",
              "      <th>1</th>\n",
              "      <td>s2</td>\n",
              "      <td>TV Show</td>\n",
              "      <td>Blood &amp; Water</td>\n",
              "      <td>NaN</td>\n",
              "      <td>Ama Qamata, Khosi Ngema, Gail Mabalane, Thaban...</td>\n",
              "      <td>South Africa</td>\n",
              "      <td>September 24, 2021</td>\n",
              "      <td>2021</td>\n",
              "      <td>TV-MA</td>\n",
              "      <td>2 Seasons</td>\n",
              "      <td>International TV Shows, TV Dramas, TV Mysteries</td>\n",
              "      <td>After crossing paths at a party, a Cape Town t...</td>\n",
              "    </tr>\n",
              "    <tr>\n",
              "      <th>2</th>\n",
              "      <td>s3</td>\n",
              "      <td>TV Show</td>\n",
              "      <td>Ganglands</td>\n",
              "      <td>Julien Leclercq</td>\n",
              "      <td>Sami Bouajila, Tracy Gotoas, Samuel Jouy, Nabi...</td>\n",
              "      <td>NaN</td>\n",
              "      <td>September 24, 2021</td>\n",
              "      <td>2021</td>\n",
              "      <td>TV-MA</td>\n",
              "      <td>1 Season</td>\n",
              "      <td>Crime TV Shows, International TV Shows, TV Act...</td>\n",
              "      <td>To protect his family from a powerful drug lor...</td>\n",
              "    </tr>\n",
              "    <tr>\n",
              "      <th>3</th>\n",
              "      <td>s4</td>\n",
              "      <td>TV Show</td>\n",
              "      <td>Jailbirds New Orleans</td>\n",
              "      <td>NaN</td>\n",
              "      <td>NaN</td>\n",
              "      <td>NaN</td>\n",
              "      <td>September 24, 2021</td>\n",
              "      <td>2021</td>\n",
              "      <td>TV-MA</td>\n",
              "      <td>1 Season</td>\n",
              "      <td>Docuseries, Reality TV</td>\n",
              "      <td>Feuds, flirtations and toilet talk go down amo...</td>\n",
              "    </tr>\n",
              "    <tr>\n",
              "      <th>4</th>\n",
              "      <td>s5</td>\n",
              "      <td>TV Show</td>\n",
              "      <td>Kota Factory</td>\n",
              "      <td>NaN</td>\n",
              "      <td>Mayur More, Jitendra Kumar, Ranjan Raj, Alam K...</td>\n",
              "      <td>India</td>\n",
              "      <td>September 24, 2021</td>\n",
              "      <td>2021</td>\n",
              "      <td>TV-MA</td>\n",
              "      <td>2 Seasons</td>\n",
              "      <td>International TV Shows, Romantic TV Shows, TV ...</td>\n",
              "      <td>In a city of coaching centers known to train I...</td>\n",
              "    </tr>\n",
              "    <tr>\n",
              "      <th>5</th>\n",
              "      <td>s6</td>\n",
              "      <td>TV Show</td>\n",
              "      <td>Midnight Mass</td>\n",
              "      <td>Mike Flanagan</td>\n",
              "      <td>Kate Siegel, Zach Gilford, Hamish Linklater, H...</td>\n",
              "      <td>NaN</td>\n",
              "      <td>September 24, 2021</td>\n",
              "      <td>2021</td>\n",
              "      <td>TV-MA</td>\n",
              "      <td>1 Season</td>\n",
              "      <td>TV Dramas, TV Horror, TV Mysteries</td>\n",
              "      <td>The arrival of a charismatic young priest brin...</td>\n",
              "    </tr>\n",
              "    <tr>\n",
              "      <th>6</th>\n",
              "      <td>s7</td>\n",
              "      <td>Movie</td>\n",
              "      <td>My Little Pony: A New Generation</td>\n",
              "      <td>Robert Cullen, José Luis Ucha</td>\n",
              "      <td>Vanessa Hudgens, Kimiko Glenn, James Marsden, ...</td>\n",
              "      <td>NaN</td>\n",
              "      <td>September 24, 2021</td>\n",
              "      <td>2021</td>\n",
              "      <td>PG</td>\n",
              "      <td>91 min</td>\n",
              "      <td>Children &amp; Family Movies</td>\n",
              "      <td>Equestria's divided. But a bright-eyed hero be...</td>\n",
              "    </tr>\n",
              "    <tr>\n",
              "      <th>7</th>\n",
              "      <td>s8</td>\n",
              "      <td>Movie</td>\n",
              "      <td>Sankofa</td>\n",
              "      <td>Haile Gerima</td>\n",
              "      <td>Kofi Ghanaba, Oyafunmike Ogunlano, Alexandra D...</td>\n",
              "      <td>United States, Ghana, Burkina Faso, United Kin...</td>\n",
              "      <td>September 24, 2021</td>\n",
              "      <td>1993</td>\n",
              "      <td>TV-MA</td>\n",
              "      <td>125 min</td>\n",
              "      <td>Dramas, Independent Movies, International Movies</td>\n",
              "      <td>On a photo shoot in Ghana, an American model s...</td>\n",
              "    </tr>\n",
              "    <tr>\n",
              "      <th>8</th>\n",
              "      <td>s9</td>\n",
              "      <td>TV Show</td>\n",
              "      <td>The Great British Baking Show</td>\n",
              "      <td>Andy Devonshire</td>\n",
              "      <td>Mel Giedroyc, Sue Perkins, Mary Berry, Paul Ho...</td>\n",
              "      <td>United Kingdom</td>\n",
              "      <td>September 24, 2021</td>\n",
              "      <td>2021</td>\n",
              "      <td>TV-14</td>\n",
              "      <td>9 Seasons</td>\n",
              "      <td>British TV Shows, Reality TV</td>\n",
              "      <td>A talented batch of amateur bakers face off in...</td>\n",
              "    </tr>\n",
              "    <tr>\n",
              "      <th>9</th>\n",
              "      <td>s10</td>\n",
              "      <td>Movie</td>\n",
              "      <td>The Starling</td>\n",
              "      <td>Theodore Melfi</td>\n",
              "      <td>Melissa McCarthy, Chris O'Dowd, Kevin Kline, T...</td>\n",
              "      <td>United States</td>\n",
              "      <td>September 24, 2021</td>\n",
              "      <td>2021</td>\n",
              "      <td>PG-13</td>\n",
              "      <td>104 min</td>\n",
              "      <td>Comedies, Dramas</td>\n",
              "      <td>A woman adjusting to life after a loss contend...</td>\n",
              "    </tr>\n",
              "  </tbody>\n",
              "</table>\n",
              "</div>"
            ],
            "text/plain": [
              "  ssshow_id     type                             title  \\\n",
              "0        s1    Movie              Dick Johnson Is Dead   \n",
              "1        s2  TV Show                     Blood & Water   \n",
              "2        s3  TV Show                         Ganglands   \n",
              "3        s4  TV Show             Jailbirds New Orleans   \n",
              "4        s5  TV Show                      Kota Factory   \n",
              "5        s6  TV Show                     Midnight Mass   \n",
              "6        s7    Movie  My Little Pony: A New Generation   \n",
              "7        s8    Movie                           Sankofa   \n",
              "8        s9  TV Show     The Great British Baking Show   \n",
              "9       s10    Movie                      The Starling   \n",
              "\n",
              "                        director  \\\n",
              "0                Kirsten Johnson   \n",
              "1                            NaN   \n",
              "2                Julien Leclercq   \n",
              "3                            NaN   \n",
              "4                            NaN   \n",
              "5                  Mike Flanagan   \n",
              "6  Robert Cullen, José Luis Ucha   \n",
              "7                   Haile Gerima   \n",
              "8                Andy Devonshire   \n",
              "9                 Theodore Melfi   \n",
              "\n",
              "                                                cast  \\\n",
              "0                                                NaN   \n",
              "1  Ama Qamata, Khosi Ngema, Gail Mabalane, Thaban...   \n",
              "2  Sami Bouajila, Tracy Gotoas, Samuel Jouy, Nabi...   \n",
              "3                                                NaN   \n",
              "4  Mayur More, Jitendra Kumar, Ranjan Raj, Alam K...   \n",
              "5  Kate Siegel, Zach Gilford, Hamish Linklater, H...   \n",
              "6  Vanessa Hudgens, Kimiko Glenn, James Marsden, ...   \n",
              "7  Kofi Ghanaba, Oyafunmike Ogunlano, Alexandra D...   \n",
              "8  Mel Giedroyc, Sue Perkins, Mary Berry, Paul Ho...   \n",
              "9  Melissa McCarthy, Chris O'Dowd, Kevin Kline, T...   \n",
              "\n",
              "                                             country          date_added  \\\n",
              "0                                      United States  September 25, 2021   \n",
              "1                                       South Africa  September 24, 2021   \n",
              "2                                                NaN  September 24, 2021   \n",
              "3                                                NaN  September 24, 2021   \n",
              "4                                              India  September 24, 2021   \n",
              "5                                                NaN  September 24, 2021   \n",
              "6                                                NaN  September 24, 2021   \n",
              "7  United States, Ghana, Burkina Faso, United Kin...  September 24, 2021   \n",
              "8                                     United Kingdom  September 24, 2021   \n",
              "9                                      United States  September 24, 2021   \n",
              "\n",
              "   release_year rating   duration  \\\n",
              "0          2020  PG-13     90 min   \n",
              "1          2021  TV-MA  2 Seasons   \n",
              "2          2021  TV-MA   1 Season   \n",
              "3          2021  TV-MA   1 Season   \n",
              "4          2021  TV-MA  2 Seasons   \n",
              "5          2021  TV-MA   1 Season   \n",
              "6          2021     PG     91 min   \n",
              "7          1993  TV-MA    125 min   \n",
              "8          2021  TV-14  9 Seasons   \n",
              "9          2021  PG-13    104 min   \n",
              "\n",
              "                                           listed_in  \\\n",
              "0                                      Documentaries   \n",
              "1    International TV Shows, TV Dramas, TV Mysteries   \n",
              "2  Crime TV Shows, International TV Shows, TV Act...   \n",
              "3                             Docuseries, Reality TV   \n",
              "4  International TV Shows, Romantic TV Shows, TV ...   \n",
              "5                 TV Dramas, TV Horror, TV Mysteries   \n",
              "6                           Children & Family Movies   \n",
              "7   Dramas, Independent Movies, International Movies   \n",
              "8                       British TV Shows, Reality TV   \n",
              "9                                   Comedies, Dramas   \n",
              "\n",
              "                                         description  \n",
              "0  As her father nears the end of his life, filmm...  \n",
              "1  After crossing paths at a party, a Cape Town t...  \n",
              "2  To protect his family from a powerful drug lor...  \n",
              "3  Feuds, flirtations and toilet talk go down amo...  \n",
              "4  In a city of coaching centers known to train I...  \n",
              "5  The arrival of a charismatic young priest brin...  \n",
              "6  Equestria's divided. But a bright-eyed hero be...  \n",
              "7  On a photo shoot in Ghana, an American model s...  \n",
              "8  A talented batch of amateur bakers face off in...  \n",
              "9  A woman adjusting to life after a loss contend...  "
            ]
          },
          "execution_count": 1208,
          "metadata": {},
          "output_type": "execute_result"
        }
      ],
      "source": [
        "\n",
        "\n",
        "df=pd.read_csv(\"netflix_titles.csv\")\n",
        "df.head(10)"
      ]
    },
    {
      "cell_type": "code",
      "execution_count": null,
      "metadata": {
        "id": "yRy5EouespeD",
        "outputId": "f5decee4-79df-4ac0-d20a-9bf8b8a36a39"
      },
      "outputs": [
        {
          "data": {
            "text/plain": [
              "(8807, 12)"
            ]
          },
          "execution_count": 1209,
          "metadata": {},
          "output_type": "execute_result"
        }
      ],
      "source": [
        "df.shape"
      ]
    },
    {
      "cell_type": "code",
      "execution_count": null,
      "metadata": {
        "id": "k6_fY2CwspeD",
        "outputId": "c6d669a7-6752-4318-82cc-7d14f39e250a"
      },
      "outputs": [
        {
          "name": "stdout",
          "output_type": "stream",
          "text": [
            "<class 'pandas.core.frame.DataFrame'>\n",
            "RangeIndex: 8807 entries, 0 to 8806\n",
            "Data columns (total 12 columns):\n",
            " #   Column        Non-Null Count  Dtype \n",
            "---  ------        --------------  ----- \n",
            " 0   ssshow_id     8807 non-null   object\n",
            " 1   type          8807 non-null   object\n",
            " 2   title         8807 non-null   object\n",
            " 3   director      6173 non-null   object\n",
            " 4   cast          7982 non-null   object\n",
            " 5   country       7976 non-null   object\n",
            " 6   date_added    8797 non-null   object\n",
            " 7   release_year  8807 non-null   int64 \n",
            " 8   rating        8803 non-null   object\n",
            " 9   duration      8804 non-null   object\n",
            " 10  listed_in     8807 non-null   object\n",
            " 11  description   8807 non-null   object\n",
            "dtypes: int64(1), object(11)\n",
            "memory usage: 825.8+ KB\n"
          ]
        }
      ],
      "source": [
        "df.info()"
      ]
    },
    {
      "cell_type": "code",
      "execution_count": null,
      "metadata": {
        "id": "xHy2ojiSspeE",
        "outputId": "294714f3-44dd-4e97-f833-3220eadee77c"
      },
      "outputs": [
        {
          "data": {
            "text/html": [
              "<div>\n",
              "<style scoped>\n",
              "    .dataframe tbody tr th:only-of-type {\n",
              "        vertical-align: middle;\n",
              "    }\n",
              "\n",
              "    .dataframe tbody tr th {\n",
              "        vertical-align: top;\n",
              "    }\n",
              "\n",
              "    .dataframe thead th {\n",
              "        text-align: right;\n",
              "    }\n",
              "</style>\n",
              "<table border=\"1\" class=\"dataframe\">\n",
              "  <thead>\n",
              "    <tr style=\"text-align: right;\">\n",
              "      <th></th>\n",
              "      <th>release_year</th>\n",
              "    </tr>\n",
              "  </thead>\n",
              "  <tbody>\n",
              "    <tr>\n",
              "      <th>count</th>\n",
              "      <td>8807.000000</td>\n",
              "    </tr>\n",
              "    <tr>\n",
              "      <th>mean</th>\n",
              "      <td>2014.180198</td>\n",
              "    </tr>\n",
              "    <tr>\n",
              "      <th>std</th>\n",
              "      <td>8.819312</td>\n",
              "    </tr>\n",
              "    <tr>\n",
              "      <th>min</th>\n",
              "      <td>1925.000000</td>\n",
              "    </tr>\n",
              "    <tr>\n",
              "      <th>25%</th>\n",
              "      <td>2013.000000</td>\n",
              "    </tr>\n",
              "    <tr>\n",
              "      <th>50%</th>\n",
              "      <td>2017.000000</td>\n",
              "    </tr>\n",
              "    <tr>\n",
              "      <th>75%</th>\n",
              "      <td>2019.000000</td>\n",
              "    </tr>\n",
              "    <tr>\n",
              "      <th>max</th>\n",
              "      <td>2021.000000</td>\n",
              "    </tr>\n",
              "  </tbody>\n",
              "</table>\n",
              "</div>"
            ],
            "text/plain": [
              "       release_year\n",
              "count   8807.000000\n",
              "mean    2014.180198\n",
              "std        8.819312\n",
              "min     1925.000000\n",
              "25%     2013.000000\n",
              "50%     2017.000000\n",
              "75%     2019.000000\n",
              "max     2021.000000"
            ]
          },
          "execution_count": 1211,
          "metadata": {},
          "output_type": "execute_result"
        }
      ],
      "source": [
        "df.describe()"
      ]
    },
    {
      "cell_type": "code",
      "execution_count": null,
      "metadata": {
        "id": "OnOBlcwdspeE",
        "outputId": "b57a8c90-e1f3-4634-eb3e-c1da232bbcd8"
      },
      "outputs": [
        {
          "data": {
            "text/plain": [
              "0"
            ]
          },
          "execution_count": 1212,
          "metadata": {},
          "output_type": "execute_result"
        }
      ],
      "source": [
        "df.duplicated().sum()"
      ]
    },
    {
      "cell_type": "code",
      "execution_count": null,
      "metadata": {
        "id": "S0lQgFV8speE",
        "outputId": "70c8362a-f249-4331-e76a-5414e18a52ea"
      },
      "outputs": [
        {
          "data": {
            "text/plain": [
              "ssshow_id          0\n",
              "type               0\n",
              "title              0\n",
              "director        2634\n",
              "cast             825\n",
              "country          831\n",
              "date_added        10\n",
              "release_year       0\n",
              "rating             4\n",
              "duration           3\n",
              "listed_in          0\n",
              "description        0\n",
              "dtype: int64"
            ]
          },
          "execution_count": 1213,
          "metadata": {},
          "output_type": "execute_result"
        }
      ],
      "source": [
        "df.isnull().sum()"
      ]
    },
    {
      "cell_type": "code",
      "execution_count": null,
      "metadata": {
        "id": "sPRtiDl-speE",
        "outputId": "c27302c3-6109-47d2-907f-26491ab0faf1"
      },
      "outputs": [
        {
          "name": "stdout",
          "output_type": "stream",
          "text": [
            "ssshow_id\n",
            "False    8807\n",
            "Name: count, dtype: int64\n",
            "\n",
            "type\n",
            "False    8807\n",
            "Name: count, dtype: int64\n",
            "\n",
            "title\n",
            "False    8807\n",
            "Name: count, dtype: int64\n",
            "\n",
            "director\n",
            "False    6173\n",
            "True     2634\n",
            "Name: count, dtype: int64\n",
            "\n",
            "cast\n",
            "False    7982\n",
            "True      825\n",
            "Name: count, dtype: int64\n",
            "\n",
            "country\n",
            "False    7976\n",
            "True      831\n",
            "Name: count, dtype: int64\n",
            "\n",
            "date_added\n",
            "False    8797\n",
            "True       10\n",
            "Name: count, dtype: int64\n",
            "\n",
            "release_year\n",
            "False    8807\n",
            "Name: count, dtype: int64\n",
            "\n",
            "rating\n",
            "False    8803\n",
            "True        4\n",
            "Name: count, dtype: int64\n",
            "\n",
            "duration\n",
            "False    8804\n",
            "True        3\n",
            "Name: count, dtype: int64\n",
            "\n",
            "listed_in\n",
            "False    8807\n",
            "Name: count, dtype: int64\n",
            "\n",
            "description\n",
            "False    8807\n",
            "Name: count, dtype: int64\n",
            "\n"
          ]
        }
      ],
      "source": [
        "missing_data=df.isnull()\n",
        "missing_data.head()\n",
        "\n",
        "for column in missing_data.columns.values.tolist() :\n",
        "    # print(column)\n",
        "    print (missing_data[column].value_counts())\n",
        "    print(\"\")"
      ]
    },
    {
      "cell_type": "markdown",
      "metadata": {
        "id": "9yvzh6xuspeF"
      },
      "source": [
        "## Correct_Missing\n",
        "\n",
        "\n",
        "Missing Values:\n",
        "* `feature_Missing_percent < 5 %` : Drop Rows\n",
        "* `5% < feature_Missing_percent < 40 %` : Filling(Imputing) with Suitable Value\n",
        "* `feature_Missing_percent > 40 %` : Drop Feature\n",
        "* `Target_has_Missing` : Drop Rows\n",
        "\n",
        "\n",
        "### duration, countary ,cast ,data_add ,director  \n",
        "\n",
        "\n",
        "\n"
      ]
    },
    {
      "cell_type": "markdown",
      "metadata": {
        "id": "JGAKDylwspeF"
      },
      "source": [
        "## Handle cast column\n"
      ]
    },
    {
      "cell_type": "code",
      "execution_count": null,
      "metadata": {
        "id": "EvkrNPkXspeF",
        "outputId": "007350b5-3b36-454f-829e-433901371bb1"
      },
      "outputs": [
        {
          "data": {
            "text/plain": [
              "9.367548540933349"
            ]
          },
          "execution_count": 1215,
          "metadata": {},
          "output_type": "execute_result"
        }
      ],
      "source": [
        "percentage_missing_cast=825/8807*100\n",
        "percentage_missing_cast"
      ]
    },
    {
      "cell_type": "code",
      "execution_count": null,
      "metadata": {
        "id": "61fxf-BRspeF",
        "outputId": "14a124b8-aac2-48b5-93bf-8f475e8122bd"
      },
      "outputs": [
        {
          "data": {
            "text/plain": [
              "'David Attenborough'"
            ]
          },
          "execution_count": 1216,
          "metadata": {},
          "output_type": "execute_result"
        }
      ],
      "source": [
        "\n",
        "df['cast'].mode()[0]"
      ]
    },
    {
      "cell_type": "code",
      "execution_count": null,
      "metadata": {
        "id": "LBH_WtG2speF",
        "outputId": "317a9492-ab6c-4457-e003-55b8c5a61aed"
      },
      "outputs": [
        {
          "data": {
            "text/html": [
              "<div>\n",
              "<style scoped>\n",
              "    .dataframe tbody tr th:only-of-type {\n",
              "        vertical-align: middle;\n",
              "    }\n",
              "\n",
              "    .dataframe tbody tr th {\n",
              "        vertical-align: top;\n",
              "    }\n",
              "\n",
              "    .dataframe thead th {\n",
              "        text-align: right;\n",
              "    }\n",
              "</style>\n",
              "<table border=\"1\" class=\"dataframe\">\n",
              "  <thead>\n",
              "    <tr style=\"text-align: right;\">\n",
              "      <th></th>\n",
              "      <th>ssshow_id</th>\n",
              "      <th>type</th>\n",
              "      <th>title</th>\n",
              "      <th>director</th>\n",
              "      <th>cast</th>\n",
              "      <th>country</th>\n",
              "      <th>date_added</th>\n",
              "      <th>release_year</th>\n",
              "      <th>rating</th>\n",
              "      <th>duration</th>\n",
              "      <th>listed_in</th>\n",
              "      <th>description</th>\n",
              "    </tr>\n",
              "  </thead>\n",
              "  <tbody>\n",
              "    <tr>\n",
              "      <th>997</th>\n",
              "      <td>s998</td>\n",
              "      <td>TV Show</td>\n",
              "      <td>Life in Color with David Attenborough</td>\n",
              "      <td>NaN</td>\n",
              "      <td>David Attenborough</td>\n",
              "      <td>Australia, United Kingdom</td>\n",
              "      <td>April 22, 2021</td>\n",
              "      <td>2021</td>\n",
              "      <td>TV-PG</td>\n",
              "      <td>1 Season</td>\n",
              "      <td>British TV Shows, Docuseries, International TV...</td>\n",
              "      <td>Using innovative technology, this docuseries e...</td>\n",
              "    </tr>\n",
              "    <tr>\n",
              "      <th>1886</th>\n",
              "      <td>s1887</td>\n",
              "      <td>Movie</td>\n",
              "      <td>David Attenborough: A Life on Our Planet</td>\n",
              "      <td>Alastair Fothergill, Jonnie Hughes, Keith Scholey</td>\n",
              "      <td>David Attenborough</td>\n",
              "      <td>United States, United Kingdom</td>\n",
              "      <td>October 4, 2020</td>\n",
              "      <td>2020</td>\n",
              "      <td>PG</td>\n",
              "      <td>84 min</td>\n",
              "      <td>Documentaries</td>\n",
              "      <td>A broadcaster recounts his life, and the evolu...</td>\n",
              "    </tr>\n",
              "    <tr>\n",
              "      <th>3573</th>\n",
              "      <td>s3574</td>\n",
              "      <td>Movie</td>\n",
              "      <td>Our Planet - Behind The Scenes</td>\n",
              "      <td>NaN</td>\n",
              "      <td>David Attenborough</td>\n",
              "      <td>United Kingdom</td>\n",
              "      <td>August 20, 2019</td>\n",
              "      <td>2019</td>\n",
              "      <td>TV-G</td>\n",
              "      <td>63 min</td>\n",
              "      <td>Documentaries</td>\n",
              "      <td>Years spent recording footage of creatures fro...</td>\n",
              "    </tr>\n",
              "    <tr>\n",
              "      <th>3938</th>\n",
              "      <td>s3939</td>\n",
              "      <td>TV Show</td>\n",
              "      <td>Our Planet</td>\n",
              "      <td>NaN</td>\n",
              "      <td>David Attenborough</td>\n",
              "      <td>United States, United Kingdom</td>\n",
              "      <td>April 5, 2019</td>\n",
              "      <td>2019</td>\n",
              "      <td>TV-PG</td>\n",
              "      <td>1 Season</td>\n",
              "      <td>Docuseries, Science &amp; Nature TV</td>\n",
              "      <td>Experience our planet's natural beauty and exa...</td>\n",
              "    </tr>\n",
              "    <tr>\n",
              "      <th>6094</th>\n",
              "      <td>s6095</td>\n",
              "      <td>TV Show</td>\n",
              "      <td>Africa</td>\n",
              "      <td>NaN</td>\n",
              "      <td>David Attenborough</td>\n",
              "      <td>United Kingdom</td>\n",
              "      <td>April 28, 2016</td>\n",
              "      <td>2013</td>\n",
              "      <td>TV-PG</td>\n",
              "      <td>1 Season</td>\n",
              "      <td>British TV Shows, Docuseries, International TV...</td>\n",
              "      <td>This five-part nature series chronicles fascin...</td>\n",
              "    </tr>\n",
              "    <tr>\n",
              "      <th>6341</th>\n",
              "      <td>s6342</td>\n",
              "      <td>TV Show</td>\n",
              "      <td>Blue Planet II</td>\n",
              "      <td>NaN</td>\n",
              "      <td>David Attenborough</td>\n",
              "      <td>United Kingdom</td>\n",
              "      <td>December 3, 2018</td>\n",
              "      <td>2017</td>\n",
              "      <td>TV-G</td>\n",
              "      <td>1 Season</td>\n",
              "      <td>British TV Shows, Docuseries, Science &amp; Nature TV</td>\n",
              "      <td>This sequel to the award-winning nature series...</td>\n",
              "    </tr>\n",
              "    <tr>\n",
              "      <th>6810</th>\n",
              "      <td>s6811</td>\n",
              "      <td>TV Show</td>\n",
              "      <td>Frozen Planet</td>\n",
              "      <td>Alastair Fothergill</td>\n",
              "      <td>David Attenborough</td>\n",
              "      <td>United Kingdom, United States, Spain, Germany,...</td>\n",
              "      <td>January 28, 2016</td>\n",
              "      <td>2011</td>\n",
              "      <td>TV-PG</td>\n",
              "      <td>1 Season</td>\n",
              "      <td>British TV Shows, Docuseries, International TV...</td>\n",
              "      <td>Go on a journey through the Arctic and Antarct...</td>\n",
              "    </tr>\n",
              "    <tr>\n",
              "      <th>6811</th>\n",
              "      <td>s6812</td>\n",
              "      <td>Movie</td>\n",
              "      <td>Frozen Planet: On Thin Ice</td>\n",
              "      <td>NaN</td>\n",
              "      <td>David Attenborough</td>\n",
              "      <td>United Kingdom, United States, Spain, Germany,...</td>\n",
              "      <td>January 28, 2016</td>\n",
              "      <td>2011</td>\n",
              "      <td>TV-PG</td>\n",
              "      <td>47 min</td>\n",
              "      <td>Movies</td>\n",
              "      <td>David Attenborough journeys to both polar regi...</td>\n",
              "    </tr>\n",
              "    <tr>\n",
              "      <th>6812</th>\n",
              "      <td>s6813</td>\n",
              "      <td>Movie</td>\n",
              "      <td>Frozen Planet: The Epic Journey</td>\n",
              "      <td>NaN</td>\n",
              "      <td>David Attenborough</td>\n",
              "      <td>United Kingdom, United States, Spain, Germany,...</td>\n",
              "      <td>January 28, 2016</td>\n",
              "      <td>2011</td>\n",
              "      <td>TV-PG</td>\n",
              "      <td>52 min</td>\n",
              "      <td>Movies</td>\n",
              "      <td>Collecting highlights from the epic documentar...</td>\n",
              "    </tr>\n",
              "    <tr>\n",
              "      <th>7300</th>\n",
              "      <td>s7301</td>\n",
              "      <td>TV Show</td>\n",
              "      <td>Life on Location</td>\n",
              "      <td>NaN</td>\n",
              "      <td>David Attenborough</td>\n",
              "      <td>United States</td>\n",
              "      <td>April 22, 2015</td>\n",
              "      <td>2009</td>\n",
              "      <td>TV-G</td>\n",
              "      <td>1 Season</td>\n",
              "      <td>British TV Shows, Docuseries, Science &amp; Nature TV</td>\n",
              "      <td>Members of the BBC's \"Life\" production crew go...</td>\n",
              "    </tr>\n",
              "    <tr>\n",
              "      <th>7301</th>\n",
              "      <td>s7302</td>\n",
              "      <td>TV Show</td>\n",
              "      <td>Life Story</td>\n",
              "      <td>NaN</td>\n",
              "      <td>David Attenborough</td>\n",
              "      <td>United Kingdom</td>\n",
              "      <td>June 20, 2016</td>\n",
              "      <td>2014</td>\n",
              "      <td>TV-14</td>\n",
              "      <td>1 Season</td>\n",
              "      <td>British TV Shows, Docuseries, Science &amp; Nature TV</td>\n",
              "      <td>This documentary series follows wild creatures...</td>\n",
              "    </tr>\n",
              "    <tr>\n",
              "      <th>7570</th>\n",
              "      <td>s7571</td>\n",
              "      <td>Movie</td>\n",
              "      <td>Nature: Raising the Dinosaur Giant</td>\n",
              "      <td>NaN</td>\n",
              "      <td>David Attenborough</td>\n",
              "      <td>United States</td>\n",
              "      <td>March 1, 2017</td>\n",
              "      <td>2016</td>\n",
              "      <td>TV-G</td>\n",
              "      <td>53 min</td>\n",
              "      <td>Documentaries</td>\n",
              "      <td>Sir David Attenborough examines a recently dis...</td>\n",
              "    </tr>\n",
              "    <tr>\n",
              "      <th>7571</th>\n",
              "      <td>s7572</td>\n",
              "      <td>TV Show</td>\n",
              "      <td>Nature's Great Events (2009)</td>\n",
              "      <td>NaN</td>\n",
              "      <td>David Attenborough</td>\n",
              "      <td>United States, United Kingdom</td>\n",
              "      <td>October 10, 2015</td>\n",
              "      <td>2009</td>\n",
              "      <td>TV-PG</td>\n",
              "      <td>1 Season</td>\n",
              "      <td>British TV Shows, Docuseries, Science &amp; Nature TV</td>\n",
              "      <td>This series looks at how seasonal changes caus...</td>\n",
              "    </tr>\n",
              "    <tr>\n",
              "      <th>7572</th>\n",
              "      <td>s7573</td>\n",
              "      <td>TV Show</td>\n",
              "      <td>Nature's Great Events: Diaries</td>\n",
              "      <td>NaN</td>\n",
              "      <td>David Attenborough</td>\n",
              "      <td>United States, United Kingdom</td>\n",
              "      <td>April 22, 2015</td>\n",
              "      <td>2009</td>\n",
              "      <td>TV-PG</td>\n",
              "      <td>1 Season</td>\n",
              "      <td>British TV Shows, Docuseries, Science &amp; Nature TV</td>\n",
              "      <td>Look behind the scenes of this wildlife docume...</td>\n",
              "    </tr>\n",
              "    <tr>\n",
              "      <th>7747</th>\n",
              "      <td>s7748</td>\n",
              "      <td>TV Show</td>\n",
              "      <td>Planet Earth II</td>\n",
              "      <td>NaN</td>\n",
              "      <td>David Attenborough</td>\n",
              "      <td>United Kingdom</td>\n",
              "      <td>December 25, 2017</td>\n",
              "      <td>2016</td>\n",
              "      <td>TV-G</td>\n",
              "      <td>1 Season</td>\n",
              "      <td>British TV Shows, Docuseries, Science &amp; Nature TV</td>\n",
              "      <td>In this sequel to the Emmy-winning \"Planet Ear...</td>\n",
              "    </tr>\n",
              "    <tr>\n",
              "      <th>7748</th>\n",
              "      <td>s7749</td>\n",
              "      <td>TV Show</td>\n",
              "      <td>Planet Earth: The Complete Collection</td>\n",
              "      <td>Alastair Fothergill</td>\n",
              "      <td>David Attenborough</td>\n",
              "      <td>United Kingdom</td>\n",
              "      <td>April 22, 2015</td>\n",
              "      <td>2006</td>\n",
              "      <td>TV-PG</td>\n",
              "      <td>1 Season</td>\n",
              "      <td>British TV Shows, Docuseries, International TV...</td>\n",
              "      <td>This landmark series transports nature lovers ...</td>\n",
              "    </tr>\n",
              "    <tr>\n",
              "      <th>8214</th>\n",
              "      <td>s8215</td>\n",
              "      <td>TV Show</td>\n",
              "      <td>The Blue Planet: A Natural History of the Oceans</td>\n",
              "      <td>Alastair Fothergill</td>\n",
              "      <td>David Attenborough</td>\n",
              "      <td>United Kingdom</td>\n",
              "      <td>October 10, 2015</td>\n",
              "      <td>2001</td>\n",
              "      <td>TV-G</td>\n",
              "      <td>1 Season</td>\n",
              "      <td>British TV Shows, Docuseries, International TV...</td>\n",
              "      <td>David Attenborough narrates this definitive ex...</td>\n",
              "    </tr>\n",
              "    <tr>\n",
              "      <th>8353</th>\n",
              "      <td>s8354</td>\n",
              "      <td>TV Show</td>\n",
              "      <td>The Hunt</td>\n",
              "      <td>NaN</td>\n",
              "      <td>David Attenborough</td>\n",
              "      <td>United Kingdom</td>\n",
              "      <td>May 14, 2017</td>\n",
              "      <td>2015</td>\n",
              "      <td>TV-PG</td>\n",
              "      <td>1 Season</td>\n",
              "      <td>British TV Shows, Docuseries, Science &amp; Nature TV</td>\n",
              "      <td>Witness some of the most riveting showdowns in...</td>\n",
              "    </tr>\n",
              "    <tr>\n",
              "      <th>8411</th>\n",
              "      <td>s8412</td>\n",
              "      <td>TV Show</td>\n",
              "      <td>The Making of Frozen Planet</td>\n",
              "      <td>NaN</td>\n",
              "      <td>David Attenborough</td>\n",
              "      <td>United Kingdom, United States, Spain, Germany,...</td>\n",
              "      <td>January 28, 2016</td>\n",
              "      <td>2012</td>\n",
              "      <td>TV-PG</td>\n",
              "      <td>1 Season</td>\n",
              "      <td>British TV Shows, Docuseries, Science &amp; Nature TV</td>\n",
              "      <td>Documentary crew members brave Earth's most fr...</td>\n",
              "    </tr>\n",
              "  </tbody>\n",
              "</table>\n",
              "</div>"
            ],
            "text/plain": [
              "     ssshow_id     type                                             title  \\\n",
              "997       s998  TV Show             Life in Color with David Attenborough   \n",
              "1886     s1887    Movie          David Attenborough: A Life on Our Planet   \n",
              "3573     s3574    Movie                    Our Planet - Behind The Scenes   \n",
              "3938     s3939  TV Show                                        Our Planet   \n",
              "6094     s6095  TV Show                                            Africa   \n",
              "6341     s6342  TV Show                                    Blue Planet II   \n",
              "6810     s6811  TV Show                                     Frozen Planet   \n",
              "6811     s6812    Movie                        Frozen Planet: On Thin Ice   \n",
              "6812     s6813    Movie                   Frozen Planet: The Epic Journey   \n",
              "7300     s7301  TV Show                                  Life on Location   \n",
              "7301     s7302  TV Show                                        Life Story   \n",
              "7570     s7571    Movie                Nature: Raising the Dinosaur Giant   \n",
              "7571     s7572  TV Show                      Nature's Great Events (2009)   \n",
              "7572     s7573  TV Show                    Nature's Great Events: Diaries   \n",
              "7747     s7748  TV Show                                   Planet Earth II   \n",
              "7748     s7749  TV Show             Planet Earth: The Complete Collection   \n",
              "8214     s8215  TV Show  The Blue Planet: A Natural History of the Oceans   \n",
              "8353     s8354  TV Show                                          The Hunt   \n",
              "8411     s8412  TV Show                       The Making of Frozen Planet   \n",
              "\n",
              "                                               director                cast  \\\n",
              "997                                                 NaN  David Attenborough   \n",
              "1886  Alastair Fothergill, Jonnie Hughes, Keith Scholey  David Attenborough   \n",
              "3573                                                NaN  David Attenborough   \n",
              "3938                                                NaN  David Attenborough   \n",
              "6094                                                NaN  David Attenborough   \n",
              "6341                                                NaN  David Attenborough   \n",
              "6810                                Alastair Fothergill  David Attenborough   \n",
              "6811                                                NaN  David Attenborough   \n",
              "6812                                                NaN  David Attenborough   \n",
              "7300                                                NaN  David Attenborough   \n",
              "7301                                                NaN  David Attenborough   \n",
              "7570                                                NaN  David Attenborough   \n",
              "7571                                                NaN  David Attenborough   \n",
              "7572                                                NaN  David Attenborough   \n",
              "7747                                                NaN  David Attenborough   \n",
              "7748                                Alastair Fothergill  David Attenborough   \n",
              "8214                                Alastair Fothergill  David Attenborough   \n",
              "8353                                                NaN  David Attenborough   \n",
              "8411                                                NaN  David Attenborough   \n",
              "\n",
              "                                                country         date_added  \\\n",
              "997                           Australia, United Kingdom     April 22, 2021   \n",
              "1886                      United States, United Kingdom    October 4, 2020   \n",
              "3573                                     United Kingdom    August 20, 2019   \n",
              "3938                      United States, United Kingdom      April 5, 2019   \n",
              "6094                                     United Kingdom     April 28, 2016   \n",
              "6341                                     United Kingdom   December 3, 2018   \n",
              "6810  United Kingdom, United States, Spain, Germany,...   January 28, 2016   \n",
              "6811  United Kingdom, United States, Spain, Germany,...   January 28, 2016   \n",
              "6812  United Kingdom, United States, Spain, Germany,...   January 28, 2016   \n",
              "7300                                      United States     April 22, 2015   \n",
              "7301                                     United Kingdom      June 20, 2016   \n",
              "7570                                      United States      March 1, 2017   \n",
              "7571                      United States, United Kingdom   October 10, 2015   \n",
              "7572                      United States, United Kingdom     April 22, 2015   \n",
              "7747                                     United Kingdom  December 25, 2017   \n",
              "7748                                     United Kingdom     April 22, 2015   \n",
              "8214                                     United Kingdom   October 10, 2015   \n",
              "8353                                     United Kingdom       May 14, 2017   \n",
              "8411  United Kingdom, United States, Spain, Germany,...   January 28, 2016   \n",
              "\n",
              "      release_year rating  duration  \\\n",
              "997           2021  TV-PG  1 Season   \n",
              "1886          2020     PG    84 min   \n",
              "3573          2019   TV-G    63 min   \n",
              "3938          2019  TV-PG  1 Season   \n",
              "6094          2013  TV-PG  1 Season   \n",
              "6341          2017   TV-G  1 Season   \n",
              "6810          2011  TV-PG  1 Season   \n",
              "6811          2011  TV-PG    47 min   \n",
              "6812          2011  TV-PG    52 min   \n",
              "7300          2009   TV-G  1 Season   \n",
              "7301          2014  TV-14  1 Season   \n",
              "7570          2016   TV-G    53 min   \n",
              "7571          2009  TV-PG  1 Season   \n",
              "7572          2009  TV-PG  1 Season   \n",
              "7747          2016   TV-G  1 Season   \n",
              "7748          2006  TV-PG  1 Season   \n",
              "8214          2001   TV-G  1 Season   \n",
              "8353          2015  TV-PG  1 Season   \n",
              "8411          2012  TV-PG  1 Season   \n",
              "\n",
              "                                              listed_in  \\\n",
              "997   British TV Shows, Docuseries, International TV...   \n",
              "1886                                      Documentaries   \n",
              "3573                                      Documentaries   \n",
              "3938                    Docuseries, Science & Nature TV   \n",
              "6094  British TV Shows, Docuseries, International TV...   \n",
              "6341  British TV Shows, Docuseries, Science & Nature TV   \n",
              "6810  British TV Shows, Docuseries, International TV...   \n",
              "6811                                             Movies   \n",
              "6812                                             Movies   \n",
              "7300  British TV Shows, Docuseries, Science & Nature TV   \n",
              "7301  British TV Shows, Docuseries, Science & Nature TV   \n",
              "7570                                      Documentaries   \n",
              "7571  British TV Shows, Docuseries, Science & Nature TV   \n",
              "7572  British TV Shows, Docuseries, Science & Nature TV   \n",
              "7747  British TV Shows, Docuseries, Science & Nature TV   \n",
              "7748  British TV Shows, Docuseries, International TV...   \n",
              "8214  British TV Shows, Docuseries, International TV...   \n",
              "8353  British TV Shows, Docuseries, Science & Nature TV   \n",
              "8411  British TV Shows, Docuseries, Science & Nature TV   \n",
              "\n",
              "                                            description  \n",
              "997   Using innovative technology, this docuseries e...  \n",
              "1886  A broadcaster recounts his life, and the evolu...  \n",
              "3573  Years spent recording footage of creatures fro...  \n",
              "3938  Experience our planet's natural beauty and exa...  \n",
              "6094  This five-part nature series chronicles fascin...  \n",
              "6341  This sequel to the award-winning nature series...  \n",
              "6810  Go on a journey through the Arctic and Antarct...  \n",
              "6811  David Attenborough journeys to both polar regi...  \n",
              "6812  Collecting highlights from the epic documentar...  \n",
              "7300  Members of the BBC's \"Life\" production crew go...  \n",
              "7301  This documentary series follows wild creatures...  \n",
              "7570  Sir David Attenborough examines a recently dis...  \n",
              "7571  This series looks at how seasonal changes caus...  \n",
              "7572  Look behind the scenes of this wildlife docume...  \n",
              "7747  In this sequel to the Emmy-winning \"Planet Ear...  \n",
              "7748  This landmark series transports nature lovers ...  \n",
              "8214  David Attenborough narrates this definitive ex...  \n",
              "8353  Witness some of the most riveting showdowns in...  \n",
              "8411  Documentary crew members brave Earth's most fr...  "
            ]
          },
          "execution_count": 1217,
          "metadata": {},
          "output_type": "execute_result"
        }
      ],
      "source": [
        "df[df.cast=='David Attenborough']"
      ]
    },
    {
      "cell_type": "code",
      "execution_count": null,
      "metadata": {
        "id": "A_Fwx7P0speG"
      },
      "outputs": [],
      "source": [
        "df[\"cast\"].replace( np.NAN, df['cast'].mode()[0], inplace=True)"
      ]
    },
    {
      "cell_type": "code",
      "execution_count": null,
      "metadata": {
        "id": "VJTJc2eWspeG"
      },
      "outputs": [],
      "source": []
    },
    {
      "cell_type": "code",
      "execution_count": null,
      "metadata": {
        "id": "muqqOeGGspeG"
      },
      "outputs": [],
      "source": [
        "df.fillna({\"rating\":\"unavailable\",\"country\":\"unavailable\",\"director\":\"unavailable\"},inplace=True)"
      ]
    },
    {
      "cell_type": "markdown",
      "metadata": {
        "id": "s33Evr49speG"
      },
      "source": [
        "## Handle rating column"
      ]
    },
    {
      "cell_type": "code",
      "execution_count": null,
      "metadata": {
        "id": "aD9wHcY7speG",
        "outputId": "e8b7110c-a031-44ca-c9be-fb9ac85ad118"
      },
      "outputs": [
        {
          "data": {
            "text/plain": [
              "rating\n",
              "TV-MA          0.364142\n",
              "TV-14          0.245259\n",
              "TV-PG          0.097990\n",
              "R              0.090723\n",
              "PG-13          0.055638\n",
              "TV-Y7          0.037924\n",
              "TV-Y           0.034859\n",
              "PG             0.032588\n",
              "TV-G           0.024980\n",
              "NR             0.009084\n",
              "G              0.004655\n",
              "TV-Y7-FV       0.000681\n",
              "unavailable    0.000454\n",
              "NC-17          0.000341\n",
              "UR             0.000341\n",
              "74 min         0.000114\n",
              "84 min         0.000114\n",
              "66 min         0.000114\n",
              "Name: count, dtype: float64"
            ]
          },
          "execution_count": 1220,
          "metadata": {},
          "output_type": "execute_result"
        }
      ],
      "source": [
        "df['rating'].value_counts()/len(df)\n"
      ]
    },
    {
      "cell_type": "code",
      "execution_count": null,
      "metadata": {
        "id": "fI7PcejAspeG",
        "outputId": "1244d02a-2152-4ac4-d551-b74b2865ba2b"
      },
      "outputs": [
        {
          "data": {
            "text/plain": [
              "ssshow_id  type     title                                                   director         cast                                                                                                                                                                                                                                                                                                                                   country      date_added        release_year  rating       duration  listed_in                             description                                                                                                                                          \n",
              "s5990      Movie    13TH: A Conversation with Oprah Winfrey & Ava DuVernay  unavailable      Oprah Winfrey, Ava DuVernay                                                                                                                                                                                                                                                                                                            unavailable  January 26, 2017  2017          unavailable  37 min    Movies                                Oprah Winfrey sits down with director Ava DuVernay to discuss her Oscar-nominated film, historical cycles of oppression and the broken prison system.    1\n",
              "s6828      TV Show  Gargantia on the Verdurous Planet                       unavailable      Kaito Ishikawa, Hisako Kanemoto, Ai Kayano, Kana Asumi, Shizuka Ito, Sayaka Ohara, Katsuyuki Konishi, Yuka Terasaki, Yuki Ono, Tomokazu Sugita, Ayumi Fujimura, Alan Lee, Cassandra Morris, Natalie Hoover, Janice Kawaye, Laura Post, Julie Ann Taylor, Patrick Seitz, Michelle Ruff, Marc Diraison, Matthew Mercer, Karen Strassman  Japan        December 1, 2016  2013          unavailable  1 Season  Anime Series, International TV Shows  After falling through a wormhole, a space-dwelling teen mecha pilot awakes to find himself amid the inhabitants of a strange planet called ... Earth.    1\n",
              "s7313      TV Show  Little Lunch                                            unavailable      Flynn Curry, Olivia Deeble, Madison Lu, Oisín O'Leary, Faith Seci, Joshua Sitch, Heidi Arena                                                                                                                                                                                                                                           Australia    February 1, 2018  2015          unavailable  1 Season  Kids' TV, TV Comedies                 Adopting a child's perspective, this show takes a humorous look at what happens during those action-packed 15 minutes of snack time each day.            1\n",
              "s7538      Movie    My Honor Was Loyalty                                    Alessandro Pepe  Leone Frisa, Paolo Vaccarino, Francesco Migliore, Albrecht Weimer, Giulia Dichiaro, Alessandra Oriti Niosi, Andreas Segeritz                                                                                                                                                                                                           Italy        March 1, 2017     2015          unavailable  115 min   Dramas                                Amid the chaos and horror of World War II, a committed German soldier fights a private battle with his own conscience.                                   1\n",
              "Name: count, dtype: int64"
            ]
          },
          "execution_count": 1221,
          "metadata": {},
          "output_type": "execute_result"
        }
      ],
      "source": [
        "df[df.rating==\"unavailable\"].value_counts()"
      ]
    },
    {
      "cell_type": "code",
      "execution_count": null,
      "metadata": {
        "id": "bkNB96KOspeG",
        "outputId": "ae72f4eb-9255-46e0-956c-bc5056a5d79a"
      },
      "outputs": [
        {
          "data": {
            "text/plain": [
              "ssshow_id        0\n",
              "type             0\n",
              "title            0\n",
              "director         0\n",
              "cast             0\n",
              "country          0\n",
              "date_added      10\n",
              "release_year     0\n",
              "rating           0\n",
              "duration         3\n",
              "listed_in        0\n",
              "description      0\n",
              "dtype: int64"
            ]
          },
          "execution_count": 1222,
          "metadata": {},
          "output_type": "execute_result"
        }
      ],
      "source": [
        "df=df.drop([5989,7537,7312,6827])\n",
        "df.isna().sum()"
      ]
    },
    {
      "cell_type": "markdown",
      "metadata": {
        "id": "deLhm2SXspeH"
      },
      "source": [
        "##  handle country column"
      ]
    },
    {
      "cell_type": "code",
      "execution_count": null,
      "metadata": {
        "id": "gYHcw3zispeH",
        "outputId": "826e7b49-9b89-4f52-845d-65b52f36e3b3"
      },
      "outputs": [
        {
          "data": {
            "text/plain": [
              "Series([], Name: count, dtype: int64)"
            ]
          },
          "execution_count": 1223,
          "metadata": {},
          "output_type": "execute_result"
        }
      ],
      "source": [
        "df[df.country.isnull()].value_counts()"
      ]
    },
    {
      "cell_type": "code",
      "execution_count": null,
      "metadata": {
        "id": "huzvgBJcspeH",
        "outputId": "e3028197-cec8-41eb-811c-672a89d24541"
      },
      "outputs": [
        {
          "data": {
            "text/plain": [
              "country\n",
              "United States                             0.320118\n",
              "India                                     0.110417\n",
              "unavailable                               0.094286\n",
              "United Kingdom                            0.047597\n",
              "Japan                                     0.027718\n",
              "                                            ...   \n",
              "Romania, Bulgaria, Hungary                0.000114\n",
              "Uruguay, Guatemala                        0.000114\n",
              "France, Senegal, Belgium                  0.000114\n",
              "Mexico, United States, Spain, Colombia    0.000114\n",
              "United Arab Emirates, Jordan              0.000114\n",
              "Name: count, Length: 749, dtype: float64"
            ]
          },
          "execution_count": 1224,
          "metadata": {},
          "output_type": "execute_result"
        }
      ],
      "source": [
        "df['country'].value_counts()/len(df)\n"
      ]
    },
    {
      "cell_type": "code",
      "execution_count": null,
      "metadata": {
        "id": "NzPJ80kkspeH"
      },
      "outputs": [],
      "source": [
        "id_max_countary=df['country'].value_counts().idxmax()\n",
        "df[\"country\"].replace( \"unavailable\",id_max_countary, inplace=True)"
      ]
    },
    {
      "cell_type": "markdown",
      "metadata": {
        "id": "EtiHuIcNspeH"
      },
      "source": [
        "##  handle  director column"
      ]
    },
    {
      "cell_type": "code",
      "execution_count": null,
      "metadata": {
        "id": "ZnJWsdgYspeI",
        "outputId": "07d9f848-1558-41ca-9969-df0a8ad82187"
      },
      "outputs": [
        {
          "data": {
            "text/plain": [
              "director\n",
              "unavailable                       29.887538\n",
              "Rajiv Chilaka                      0.215836\n",
              "Raúl Campos, Jan Suter             0.204476\n",
              "Suhas Kadav                        0.181756\n",
              "Marcus Raboy                       0.181756\n",
              "                                    ...    \n",
              "Raymie Muzquiz, Stu Livingston     0.011360\n",
              "Joe Menendez                       0.011360\n",
              "Eric Bross                         0.011360\n",
              "Will Eisenberg                     0.011360\n",
              "Mozez Singh                        0.011360\n",
              "Name: count, Length: 4528, dtype: float64"
            ]
          },
          "execution_count": 1226,
          "metadata": {},
          "output_type": "execute_result"
        }
      ],
      "source": [
        "df['director'].value_counts()/len(df)*100\n"
      ]
    },
    {
      "cell_type": "code",
      "execution_count": null,
      "metadata": {
        "id": "JFhE3SqsspeI"
      },
      "outputs": [],
      "source": [
        "id_max_director=df['director'].value_counts() /len(df)*100\n",
        "df[\"director\"].replace( \"unavailable\",id_max_director.iloc[0], inplace=True)"
      ]
    },
    {
      "cell_type": "code",
      "execution_count": null,
      "metadata": {
        "id": "72k8ihMXspeI",
        "outputId": "2e94ff7a-8ed6-49df-9de5-1b5d9cb0d921"
      },
      "outputs": [
        {
          "data": {
            "text/html": [
              "<div>\n",
              "<style scoped>\n",
              "    .dataframe tbody tr th:only-of-type {\n",
              "        vertical-align: middle;\n",
              "    }\n",
              "\n",
              "    .dataframe tbody tr th {\n",
              "        vertical-align: top;\n",
              "    }\n",
              "\n",
              "    .dataframe thead th {\n",
              "        text-align: right;\n",
              "    }\n",
              "</style>\n",
              "<table border=\"1\" class=\"dataframe\">\n",
              "  <thead>\n",
              "    <tr style=\"text-align: right;\">\n",
              "      <th></th>\n",
              "      <th>ssshow_id</th>\n",
              "      <th>type</th>\n",
              "      <th>title</th>\n",
              "      <th>director</th>\n",
              "      <th>cast</th>\n",
              "      <th>country</th>\n",
              "      <th>date_added</th>\n",
              "      <th>release_year</th>\n",
              "      <th>rating</th>\n",
              "      <th>duration</th>\n",
              "      <th>listed_in</th>\n",
              "      <th>description</th>\n",
              "    </tr>\n",
              "  </thead>\n",
              "  <tbody>\n",
              "  </tbody>\n",
              "</table>\n",
              "</div>"
            ],
            "text/plain": [
              "Empty DataFrame\n",
              "Columns: [ssshow_id, type, title, director, cast, country, date_added, release_year, rating, duration, listed_in, description]\n",
              "Index: []"
            ]
          },
          "execution_count": 1228,
          "metadata": {},
          "output_type": "execute_result"
        }
      ],
      "source": [
        "df[df.duration==\"unavailable\"]\n"
      ]
    },
    {
      "cell_type": "markdown",
      "metadata": {
        "id": "aKOJp4KWspeI"
      },
      "source": [
        "## handle date_added column"
      ]
    },
    {
      "cell_type": "code",
      "execution_count": null,
      "metadata": {
        "id": "J89ooVgpspeI",
        "outputId": "f554eb45-c073-4c4e-9214-bc61f5e8a613"
      },
      "outputs": [
        {
          "data": {
            "text/plain": [
              "0      2021-09-25\n",
              "1      2021-09-24\n",
              "2      2021-09-24\n",
              "3      2021-09-24\n",
              "4      2021-09-24\n",
              "          ...    \n",
              "8802   2019-11-20\n",
              "8803   2019-07-01\n",
              "8804   2019-11-01\n",
              "8805   2020-01-11\n",
              "8806   2019-03-02\n",
              "Name: date_added, Length: 8803, dtype: datetime64[ns]"
            ]
          },
          "execution_count": 1229,
          "metadata": {},
          "output_type": "execute_result"
        }
      ],
      "source": [
        "### covert data type from object to datatime46\n",
        "df[\"date_added\"] = pd.to_datetime(df[\"date_added\"], errors='coerce')\n",
        "df[\"date_added\"]\n"
      ]
    },
    {
      "cell_type": "code",
      "execution_count": null,
      "metadata": {
        "id": "cY0PFMWKspeI",
        "outputId": "971f3beb-0397-4929-8d8a-c988e1d326f0"
      },
      "outputs": [
        {
          "data": {
            "text/html": [
              "<div>\n",
              "<style scoped>\n",
              "    .dataframe tbody tr th:only-of-type {\n",
              "        vertical-align: middle;\n",
              "    }\n",
              "\n",
              "    .dataframe tbody tr th {\n",
              "        vertical-align: top;\n",
              "    }\n",
              "\n",
              "    .dataframe thead th {\n",
              "        text-align: right;\n",
              "    }\n",
              "</style>\n",
              "<table border=\"1\" class=\"dataframe\">\n",
              "  <thead>\n",
              "    <tr style=\"text-align: right;\">\n",
              "      <th></th>\n",
              "      <th>ssshow_id</th>\n",
              "      <th>type</th>\n",
              "      <th>title</th>\n",
              "      <th>director</th>\n",
              "      <th>cast</th>\n",
              "      <th>country</th>\n",
              "      <th>date_added</th>\n",
              "      <th>release_year</th>\n",
              "      <th>rating</th>\n",
              "      <th>duration</th>\n",
              "      <th>listed_in</th>\n",
              "      <th>description</th>\n",
              "    </tr>\n",
              "  </thead>\n",
              "  <tbody>\n",
              "    <tr>\n",
              "      <th>6066</th>\n",
              "      <td>s6067</td>\n",
              "      <td>TV Show</td>\n",
              "      <td>A Young Doctor's Notebook and Other Stories</td>\n",
              "      <td>29.887538</td>\n",
              "      <td>Daniel Radcliffe, Jon Hamm, Adam Godley, Chris...</td>\n",
              "      <td>United Kingdom</td>\n",
              "      <td>NaT</td>\n",
              "      <td>2013</td>\n",
              "      <td>TV-MA</td>\n",
              "      <td>2 Seasons</td>\n",
              "      <td>British TV Shows, TV Comedies, TV Dramas</td>\n",
              "      <td>Set during the Russian Revolution, this comic ...</td>\n",
              "    </tr>\n",
              "    <tr>\n",
              "      <th>6079</th>\n",
              "      <td>s6080</td>\n",
              "      <td>TV Show</td>\n",
              "      <td>Abnormal Summit</td>\n",
              "      <td>Jung-ah Im, Seung-uk Jo</td>\n",
              "      <td>Hyun-moo Jun, Si-kyung Sung, Se-yoon Yoo</td>\n",
              "      <td>South Korea</td>\n",
              "      <td>NaT</td>\n",
              "      <td>2017</td>\n",
              "      <td>TV-PG</td>\n",
              "      <td>2 Seasons</td>\n",
              "      <td>International TV Shows, Korean TV Shows, Stand...</td>\n",
              "      <td>Led by a trio of Korean celebs, a multinationa...</td>\n",
              "    </tr>\n",
              "    <tr>\n",
              "      <th>6174</th>\n",
              "      <td>s6175</td>\n",
              "      <td>TV Show</td>\n",
              "      <td>Anthony Bourdain: Parts Unknown</td>\n",
              "      <td>29.887538</td>\n",
              "      <td>Anthony Bourdain</td>\n",
              "      <td>United States</td>\n",
              "      <td>NaT</td>\n",
              "      <td>2018</td>\n",
              "      <td>TV-PG</td>\n",
              "      <td>5 Seasons</td>\n",
              "      <td>Docuseries</td>\n",
              "      <td>This CNN original series has chef Anthony Bour...</td>\n",
              "    </tr>\n",
              "    <tr>\n",
              "      <th>6177</th>\n",
              "      <td>s6178</td>\n",
              "      <td>TV Show</td>\n",
              "      <td>忍者ハットリくん</td>\n",
              "      <td>29.887538</td>\n",
              "      <td>David Attenborough</td>\n",
              "      <td>Japan</td>\n",
              "      <td>NaT</td>\n",
              "      <td>2012</td>\n",
              "      <td>TV-Y7</td>\n",
              "      <td>2 Seasons</td>\n",
              "      <td>Anime Series, Kids' TV</td>\n",
              "      <td>Hailing from the mountains of Iga, Kanzo Hatto...</td>\n",
              "    </tr>\n",
              "    <tr>\n",
              "      <th>6213</th>\n",
              "      <td>s6214</td>\n",
              "      <td>TV Show</td>\n",
              "      <td>Bad Education</td>\n",
              "      <td>29.887538</td>\n",
              "      <td>Jack Whitehall, Mathew Horne, Sarah Solemani, ...</td>\n",
              "      <td>United Kingdom</td>\n",
              "      <td>NaT</td>\n",
              "      <td>2014</td>\n",
              "      <td>TV-MA</td>\n",
              "      <td>3 Seasons</td>\n",
              "      <td>British TV Shows, TV Comedies</td>\n",
              "      <td>A history teacher at the posh Abbey Grove, Alf...</td>\n",
              "    </tr>\n",
              "    <tr>\n",
              "      <th>...</th>\n",
              "      <td>...</td>\n",
              "      <td>...</td>\n",
              "      <td>...</td>\n",
              "      <td>...</td>\n",
              "      <td>...</td>\n",
              "      <td>...</td>\n",
              "      <td>...</td>\n",
              "      <td>...</td>\n",
              "      <td>...</td>\n",
              "      <td>...</td>\n",
              "      <td>...</td>\n",
              "      <td>...</td>\n",
              "    </tr>\n",
              "    <tr>\n",
              "      <th>8539</th>\n",
              "      <td>s8540</td>\n",
              "      <td>TV Show</td>\n",
              "      <td>The Tudors</td>\n",
              "      <td>29.887538</td>\n",
              "      <td>Jonathan Rhys Meyers, Henry Cavill, James Frai...</td>\n",
              "      <td>Ireland, Canada, United States, United Kingdom</td>\n",
              "      <td>NaT</td>\n",
              "      <td>2010</td>\n",
              "      <td>TV-MA</td>\n",
              "      <td>4 Seasons</td>\n",
              "      <td>TV Dramas</td>\n",
              "      <td>All the splendor and scandal of England's 16th...</td>\n",
              "    </tr>\n",
              "    <tr>\n",
              "      <th>8557</th>\n",
              "      <td>s8558</td>\n",
              "      <td>TV Show</td>\n",
              "      <td>The West Wing</td>\n",
              "      <td>29.887538</td>\n",
              "      <td>Martin Sheen, Rob Lowe, Allison Janney, John S...</td>\n",
              "      <td>United States</td>\n",
              "      <td>NaT</td>\n",
              "      <td>2005</td>\n",
              "      <td>TV-14</td>\n",
              "      <td>7 Seasons</td>\n",
              "      <td>TV Dramas</td>\n",
              "      <td>This powerful political epic chronicles the tr...</td>\n",
              "    </tr>\n",
              "    <tr>\n",
              "      <th>8684</th>\n",
              "      <td>s8685</td>\n",
              "      <td>TV Show</td>\n",
              "      <td>Vroomiz</td>\n",
              "      <td>29.887538</td>\n",
              "      <td>Joon-seok Song, Jeong-hwa Yang, Sang-hyun Um, ...</td>\n",
              "      <td>South Korea</td>\n",
              "      <td>NaT</td>\n",
              "      <td>2016</td>\n",
              "      <td>TV-Y</td>\n",
              "      <td>3 Seasons</td>\n",
              "      <td>Kids' TV, Korean TV Shows</td>\n",
              "      <td>For these half-car, half-animal friends, each ...</td>\n",
              "    </tr>\n",
              "    <tr>\n",
              "      <th>8712</th>\n",
              "      <td>s8713</td>\n",
              "      <td>TV Show</td>\n",
              "      <td>Weird Wonders of the World</td>\n",
              "      <td>29.887538</td>\n",
              "      <td>Chris Packham</td>\n",
              "      <td>United Kingdom</td>\n",
              "      <td>NaT</td>\n",
              "      <td>2016</td>\n",
              "      <td>TV-PG</td>\n",
              "      <td>2 Seasons</td>\n",
              "      <td>British TV Shows, Docuseries, Science &amp; Nature TV</td>\n",
              "      <td>From animal oddities and bizarre science to me...</td>\n",
              "    </tr>\n",
              "    <tr>\n",
              "      <th>8755</th>\n",
              "      <td>s8756</td>\n",
              "      <td>TV Show</td>\n",
              "      <td>Women Behind Bars</td>\n",
              "      <td>29.887538</td>\n",
              "      <td>David Attenborough</td>\n",
              "      <td>United States</td>\n",
              "      <td>NaT</td>\n",
              "      <td>2010</td>\n",
              "      <td>TV-14</td>\n",
              "      <td>3 Seasons</td>\n",
              "      <td>Crime TV Shows, Docuseries</td>\n",
              "      <td>This reality series recounts true stories of w...</td>\n",
              "    </tr>\n",
              "  </tbody>\n",
              "</table>\n",
              "<p>98 rows × 12 columns</p>\n",
              "</div>"
            ],
            "text/plain": [
              "     ssshow_id     type                                        title  \\\n",
              "6066     s6067  TV Show  A Young Doctor's Notebook and Other Stories   \n",
              "6079     s6080  TV Show                              Abnormal Summit   \n",
              "6174     s6175  TV Show              Anthony Bourdain: Parts Unknown   \n",
              "6177     s6178  TV Show                                     忍者ハットリくん   \n",
              "6213     s6214  TV Show                                Bad Education   \n",
              "...        ...      ...                                          ...   \n",
              "8539     s8540  TV Show                                   The Tudors   \n",
              "8557     s8558  TV Show                                The West Wing   \n",
              "8684     s8685  TV Show                                      Vroomiz   \n",
              "8712     s8713  TV Show                   Weird Wonders of the World   \n",
              "8755     s8756  TV Show                            Women Behind Bars   \n",
              "\n",
              "                     director  \\\n",
              "6066                29.887538   \n",
              "6079  Jung-ah Im, Seung-uk Jo   \n",
              "6174                29.887538   \n",
              "6177                29.887538   \n",
              "6213                29.887538   \n",
              "...                       ...   \n",
              "8539                29.887538   \n",
              "8557                29.887538   \n",
              "8684                29.887538   \n",
              "8712                29.887538   \n",
              "8755                29.887538   \n",
              "\n",
              "                                                   cast  \\\n",
              "6066  Daniel Radcliffe, Jon Hamm, Adam Godley, Chris...   \n",
              "6079           Hyun-moo Jun, Si-kyung Sung, Se-yoon Yoo   \n",
              "6174                                   Anthony Bourdain   \n",
              "6177                                 David Attenborough   \n",
              "6213  Jack Whitehall, Mathew Horne, Sarah Solemani, ...   \n",
              "...                                                 ...   \n",
              "8539  Jonathan Rhys Meyers, Henry Cavill, James Frai...   \n",
              "8557  Martin Sheen, Rob Lowe, Allison Janney, John S...   \n",
              "8684  Joon-seok Song, Jeong-hwa Yang, Sang-hyun Um, ...   \n",
              "8712                                      Chris Packham   \n",
              "8755                                 David Attenborough   \n",
              "\n",
              "                                             country date_added  release_year  \\\n",
              "6066                                  United Kingdom        NaT          2013   \n",
              "6079                                     South Korea        NaT          2017   \n",
              "6174                                   United States        NaT          2018   \n",
              "6177                                           Japan        NaT          2012   \n",
              "6213                                  United Kingdom        NaT          2014   \n",
              "...                                              ...        ...           ...   \n",
              "8539  Ireland, Canada, United States, United Kingdom        NaT          2010   \n",
              "8557                                   United States        NaT          2005   \n",
              "8684                                     South Korea        NaT          2016   \n",
              "8712                                  United Kingdom        NaT          2016   \n",
              "8755                                   United States        NaT          2010   \n",
              "\n",
              "     rating   duration                                          listed_in  \\\n",
              "6066  TV-MA  2 Seasons           British TV Shows, TV Comedies, TV Dramas   \n",
              "6079  TV-PG  2 Seasons  International TV Shows, Korean TV Shows, Stand...   \n",
              "6174  TV-PG  5 Seasons                                         Docuseries   \n",
              "6177  TV-Y7  2 Seasons                             Anime Series, Kids' TV   \n",
              "6213  TV-MA  3 Seasons                      British TV Shows, TV Comedies   \n",
              "...     ...        ...                                                ...   \n",
              "8539  TV-MA  4 Seasons                                          TV Dramas   \n",
              "8557  TV-14  7 Seasons                                          TV Dramas   \n",
              "8684   TV-Y  3 Seasons                          Kids' TV, Korean TV Shows   \n",
              "8712  TV-PG  2 Seasons  British TV Shows, Docuseries, Science & Nature TV   \n",
              "8755  TV-14  3 Seasons                         Crime TV Shows, Docuseries   \n",
              "\n",
              "                                            description  \n",
              "6066  Set during the Russian Revolution, this comic ...  \n",
              "6079  Led by a trio of Korean celebs, a multinationa...  \n",
              "6174  This CNN original series has chef Anthony Bour...  \n",
              "6177  Hailing from the mountains of Iga, Kanzo Hatto...  \n",
              "6213  A history teacher at the posh Abbey Grove, Alf...  \n",
              "...                                                 ...  \n",
              "8539  All the splendor and scandal of England's 16th...  \n",
              "8557  This powerful political epic chronicles the tr...  \n",
              "8684  For these half-car, half-animal friends, each ...  \n",
              "8712  From animal oddities and bizarre science to me...  \n",
              "8755  This reality series recounts true stories of w...  \n",
              "\n",
              "[98 rows x 12 columns]"
            ]
          },
          "execution_count": 1230,
          "metadata": {},
          "output_type": "execute_result"
        }
      ],
      "source": [
        "df[df.date_added.isnull()]"
      ]
    },
    {
      "cell_type": "code",
      "execution_count": null,
      "metadata": {
        "id": "JOikd4rCspeJ",
        "outputId": "824b0e74-df44-4dda-b648-a8eb121eaaf9"
      },
      "outputs": [
        {
          "data": {
            "text/plain": [
              "0"
            ]
          },
          "execution_count": 1231,
          "metadata": {},
          "output_type": "execute_result"
        }
      ],
      "source": [
        "data_max=df['date_added'].max()\n",
        "df.fillna({'date_added':data_max},inplace=True)\n",
        "df['date_added'].isna().sum()"
      ]
    },
    {
      "cell_type": "markdown",
      "metadata": {
        "id": "KRn14cV4speJ"
      },
      "source": [
        "## handle duration column"
      ]
    },
    {
      "cell_type": "code",
      "execution_count": null,
      "metadata": {
        "id": "wJKcZJ88speJ",
        "outputId": "c9510c20-6e24-4235-c021-a4d88403eacd"
      },
      "outputs": [
        {
          "data": {
            "text/html": [
              "<div>\n",
              "<style scoped>\n",
              "    .dataframe tbody tr th:only-of-type {\n",
              "        vertical-align: middle;\n",
              "    }\n",
              "\n",
              "    .dataframe tbody tr th {\n",
              "        vertical-align: top;\n",
              "    }\n",
              "\n",
              "    .dataframe thead th {\n",
              "        text-align: right;\n",
              "    }\n",
              "</style>\n",
              "<table border=\"1\" class=\"dataframe\">\n",
              "  <thead>\n",
              "    <tr style=\"text-align: right;\">\n",
              "      <th></th>\n",
              "      <th>ssshow_id</th>\n",
              "      <th>type</th>\n",
              "      <th>title</th>\n",
              "      <th>director</th>\n",
              "      <th>cast</th>\n",
              "      <th>country</th>\n",
              "      <th>date_added</th>\n",
              "      <th>release_year</th>\n",
              "      <th>rating</th>\n",
              "      <th>duration</th>\n",
              "      <th>listed_in</th>\n",
              "      <th>description</th>\n",
              "    </tr>\n",
              "  </thead>\n",
              "  <tbody>\n",
              "    <tr>\n",
              "      <th>5541</th>\n",
              "      <td>s5542</td>\n",
              "      <td>Movie</td>\n",
              "      <td>Louis C.K. 2017</td>\n",
              "      <td>Louis C.K.</td>\n",
              "      <td>Louis C.K.</td>\n",
              "      <td>United States</td>\n",
              "      <td>2017-04-04</td>\n",
              "      <td>2017</td>\n",
              "      <td>74 min</td>\n",
              "      <td>NaN</td>\n",
              "      <td>Movies</td>\n",
              "      <td>Louis C.K. muses on religion, eternal love, gi...</td>\n",
              "    </tr>\n",
              "    <tr>\n",
              "      <th>5794</th>\n",
              "      <td>s5795</td>\n",
              "      <td>Movie</td>\n",
              "      <td>Louis C.K.: Hilarious</td>\n",
              "      <td>Louis C.K.</td>\n",
              "      <td>Louis C.K.</td>\n",
              "      <td>United States</td>\n",
              "      <td>2016-09-16</td>\n",
              "      <td>2010</td>\n",
              "      <td>84 min</td>\n",
              "      <td>NaN</td>\n",
              "      <td>Movies</td>\n",
              "      <td>Emmy-winning comedy writer Louis C.K. brings h...</td>\n",
              "    </tr>\n",
              "    <tr>\n",
              "      <th>5813</th>\n",
              "      <td>s5814</td>\n",
              "      <td>Movie</td>\n",
              "      <td>Louis C.K.: Live at the Comedy Store</td>\n",
              "      <td>Louis C.K.</td>\n",
              "      <td>Louis C.K.</td>\n",
              "      <td>United States</td>\n",
              "      <td>2016-08-15</td>\n",
              "      <td>2015</td>\n",
              "      <td>66 min</td>\n",
              "      <td>NaN</td>\n",
              "      <td>Movies</td>\n",
              "      <td>The comic puts his trademark hilarious/thought...</td>\n",
              "    </tr>\n",
              "  </tbody>\n",
              "</table>\n",
              "</div>"
            ],
            "text/plain": [
              "     ssshow_id   type                                 title    director  \\\n",
              "5541     s5542  Movie                       Louis C.K. 2017  Louis C.K.   \n",
              "5794     s5795  Movie                 Louis C.K.: Hilarious  Louis C.K.   \n",
              "5813     s5814  Movie  Louis C.K.: Live at the Comedy Store  Louis C.K.   \n",
              "\n",
              "            cast        country date_added  release_year  rating duration  \\\n",
              "5541  Louis C.K.  United States 2017-04-04          2017  74 min      NaN   \n",
              "5794  Louis C.K.  United States 2016-09-16          2010  84 min      NaN   \n",
              "5813  Louis C.K.  United States 2016-08-15          2015  66 min      NaN   \n",
              "\n",
              "     listed_in                                        description  \n",
              "5541    Movies  Louis C.K. muses on religion, eternal love, gi...  \n",
              "5794    Movies  Emmy-winning comedy writer Louis C.K. brings h...  \n",
              "5813    Movies  The comic puts his trademark hilarious/thought...  "
            ]
          },
          "execution_count": 1232,
          "metadata": {},
          "output_type": "execute_result"
        }
      ],
      "source": [
        "## handle missing_duration\n",
        "df[df.duration.isnull()]\n"
      ]
    },
    {
      "cell_type": "code",
      "execution_count": null,
      "metadata": {
        "id": "7MEM0QZpspeJ",
        "outputId": "25c146b3-7d05-4f67-a60d-30a351d23610"
      },
      "outputs": [
        {
          "data": {
            "text/plain": [
              "ssshow_id       0\n",
              "type            0\n",
              "title           0\n",
              "director        0\n",
              "cast            0\n",
              "country         0\n",
              "date_added      0\n",
              "release_year    0\n",
              "rating          0\n",
              "duration        0\n",
              "listed_in       0\n",
              "description     0\n",
              "dtype: int64"
            ]
          },
          "execution_count": 1233,
          "metadata": {},
          "output_type": "execute_result"
        }
      ],
      "source": [
        "##remove 3 rows\n",
        "df=df.drop([5541,5794,5813])\n",
        "df.isna().sum()"
      ]
    },
    {
      "cell_type": "code",
      "execution_count": null,
      "metadata": {
        "id": "SSz2SW2jspeJ",
        "outputId": "ded045b0-5e46-40ef-f30f-e8ea88479e7f"
      },
      "outputs": [
        {
          "data": {
            "text/plain": [
              "type\n",
              "Movie      6126\n",
              "TV Show    2674\n",
              "Name: count, dtype: int64"
            ]
          },
          "execution_count": 1234,
          "metadata": {},
          "output_type": "execute_result"
        }
      ],
      "source": [
        "##visualization\n",
        "##types of categories\n",
        "df.type.value_counts()"
      ]
    },
    {
      "cell_type": "code",
      "execution_count": null,
      "metadata": {
        "id": "VpF6PW4LspeJ",
        "outputId": "a495c97e-4f0b-4405-e6e9-45c2a7453e0f"
      },
      "outputs": [
        {
          "data": {
            "text/plain": [
              "Text(0.5, 1.0, 'Count  vs typeof shows')"
            ]
          },
          "execution_count": 1235,
          "metadata": {},
          "output_type": "execute_result"
        },
        {
          "data": {
            "image/png": "[encoded data removed]",
            "text/plain": [
              "<Figure size 432x288 with 1 Axes>"
            ]
          },
          "metadata": {
            "needs_background": "light"
          },
          "output_type": "display_data"
        }
      ],
      "source": [
        "## this countplot show type of categories\n",
        "sns.countplot(x='type',data=df)\n",
        "plt.title('Count  vs typeof shows')"
      ]
    },
    {
      "cell_type": "code",
      "execution_count": null,
      "metadata": {
        "id": "vQSqYLIkspeS",
        "outputId": "4b12e8cd-5b89-4ee9-82f1-0753f082b3a2"
      },
      "outputs": [
        {
          "data": {
            "text/plain": [
              "country\n",
              "United States                             3645\n",
              "India                                      972\n",
              "United Kingdom                             419\n",
              "Japan                                      244\n",
              "South Korea                                199\n",
              "                                          ... \n",
              "Romania, Bulgaria, Hungary                   1\n",
              "Uruguay, Guatemala                           1\n",
              "France, Senegal, Belgium                     1\n",
              "Mexico, United States, Spain, Colombia       1\n",
              "United Arab Emirates, Jordan                 1\n",
              "Name: count, Length: 748, dtype: int64"
            ]
          },
          "execution_count": 1236,
          "metadata": {},
          "output_type": "execute_result"
        }
      ],
      "source": [
        "## countary column\n",
        "df[\"country\"].value_counts()"
      ]
    },
    {
      "cell_type": "code",
      "execution_count": null,
      "metadata": {
        "id": "srBv7FkSspeS",
        "outputId": "54a48e89-94db-442a-ad86-3e9814740646"
      },
      "outputs": [
        {
          "data": {
            "text/plain": [
              "Text(0.5, 1.0, 'Top 10 countries producing movies and TV_shows in Netflix')"
            ]
          },
          "execution_count": 1237,
          "metadata": {},
          "output_type": "execute_result"
        },
        {
          "data": {
            "image/png": "[encoded data removed]",
            "text/plain": [
              "<Figure size 864x432 with 1 Axes>"
            ]
          },
          "metadata": {
            "needs_background": "light"
          },
          "output_type": "display_data"
        }
      ],
      "source": [
        "plt.figure(figsize=(12,6))\n",
        "sns.countplot(x='country',order=df[\"country\"].value_counts().index[0:10],data=df)\n",
        "plt.title(\"Top 10 countries producing movies and TV_shows in Netflix\")\n"
      ]
    },
    {
      "cell_type": "code",
      "execution_count": null,
      "metadata": {
        "id": "-rLmecyyspeS"
      },
      "outputs": [],
      "source": [
        "## type content depend on country\n",
        "movies_countries=df[df[\"type\"]=='Movie']\n",
        "Tv_show_countries=df[df[\"type\"]=='TV Show']\n"
      ]
    },
    {
      "cell_type": "code",
      "execution_count": null,
      "metadata": {
        "id": "FgATLVJAspeS",
        "outputId": "a68a7586-136a-492f-eac2-d49149ff25ab"
      },
      "outputs": [
        {
          "data": {
            "text/plain": [
              "Text(0.5, 1.0, 'Top 10 countries producing TV_show_countries in Netflix')"
            ]
          },
          "execution_count": 1239,
          "metadata": {},
          "output_type": "execute_result"
        },
        {
          "data": {
            "image/png": "[encoded data removed]",
            "text/plain": [
              "<Figure size 864x432 with 1 Axes>"
            ]
          },
          "metadata": {
            "needs_background": "light"
          },
          "output_type": "display_data"
        },
        {
          "data": {
            "image/png": "[encoded data removed]",
            "text/plain": [
              "<Figure size 864x432 with 1 Axes>"
            ]
          },
          "metadata": {
            "needs_background": "light"
          },
          "output_type": "display_data"
        }
      ],
      "source": [
        "plt.figure(figsize=(12,6))\n",
        "sns.countplot(y='country',order=df[\"country\"].value_counts().index[0:10],data=movies_countries)\n",
        "plt.title(\"Top 10 countries producing movies in Netflix\")\n",
        "\n",
        "\n",
        "plt.figure(figsize=(12,6))\n",
        "sns.countplot(y='country',order=df[\"country\"].value_counts().index[0:10],data=Tv_show_countries )\n",
        "plt.title(\"Top 10 countries producing TV_show_countries in Netflix\")\n",
        "\n",
        "\n"
      ]
    },
    {
      "cell_type": "code",
      "execution_count": null,
      "metadata": {
        "id": "n4wv54qdspeT",
        "outputId": "e69d7d05-cb5b-4738-a107-6dcf8b43f5d8"
      },
      "outputs": [
        {
          "data": {
            "text/plain": [
              "release_year\n",
              "2018    1147\n",
              "2017    1030\n",
              "2019    1030\n",
              "2020     953\n",
              "2016     902\n",
              "2021     592\n",
              "2015     557\n",
              "2014     352\n",
              "2013     287\n",
              "2012     237\n",
              "Name: count, dtype: int64"
            ]
          },
          "execution_count": 1240,
          "metadata": {},
          "output_type": "execute_result"
        }
      ],
      "source": [
        "##\n",
        "df.release_year.value_counts()[0:10]"
      ]
    },
    {
      "cell_type": "markdown",
      "metadata": {
        "id": "oJFOtkyespeT"
      },
      "source": [
        "## popular Genres on Netflix"
      ]
    },
    {
      "cell_type": "code",
      "execution_count": null,
      "metadata": {
        "id": "hn2HLtKkspeT",
        "outputId": "b4cbe8a3-9a81-42f8-8b1c-51a79940491c"
      },
      "outputs": [
        {
          "data": {
            "image/png": "[encoded data removed]",
            "text/plain": [
              "<Figure size 720x360 with 1 Axes>"
            ]
          },
          "metadata": {
            "needs_background": "light"
          },
          "output_type": "display_data"
        }
      ],
      "source": [
        "genre_counts = df[\"listed_in\"].value_counts().head(5)  # Top 10 genres\n",
        "\n",
        "# Bar chart for top genres\n",
        "plt.figure(figsize=(10, 5))\n",
        "sns.barplot(x=genre_counts.values, y=genre_counts.index, palette=\"coolwarm\")\n",
        "plt.title('Top Genres')\n",
        "plt.xlabel('Count')\n",
        "plt.ylabel('Genres')\n",
        "plt.show()"
      ]
    },
    {
      "cell_type": "code",
      "execution_count": null,
      "metadata": {
        "id": "uBPU-k2FspeT",
        "outputId": "b8818b3a-2412-4ea1-d229-91a1b29d7057"
      },
      "outputs": [
        {
          "data": {
            "image/png": "[encoded data removed]",
            "text/plain": [
              "<Figure size 720x360 with 1 Axes>"
            ]
          },
          "metadata": {
            "needs_background": "light"
          },
          "output_type": "display_data"
        }
      ],
      "source": [
        "genre_counts = df[\"listed_in\"].value_counts().sort_values(ascending=True).head(5)  # Last 10 genres\n",
        "\n",
        "# Bar chart for the last 10 genres\n",
        "plt.figure(figsize=(10, 5))\n",
        "sns.barplot(x=genre_counts.values, y=genre_counts.index, palette=\"coolwarm\")\n",
        "plt.title('Least Common Genres')\n",
        "plt.xlabel('Count')\n",
        "plt.ylabel('Genres')\n",
        "plt.show()"
      ]
    },
    {
      "cell_type": "markdown",
      "metadata": {
        "id": "yPUqSUCdspeT"
      },
      "source": [
        "##  2. Content Added Over Time (Yearly and Monthly)\n"
      ]
    },
    {
      "cell_type": "code",
      "execution_count": null,
      "metadata": {
        "id": "fYNBP4l4speT",
        "outputId": "2e05532e-1830-463c-ed4e-1866b625d614"
      },
      "outputs": [
        {
          "data": {
            "image/png": "[encoded data removed]",
            "text/plain": [
              "<Figure size 720x432 with 1 Axes>"
            ]
          },
          "metadata": {
            "needs_background": "light"
          },
          "output_type": "display_data"
        }
      ],
      "source": [
        "df['date_added'] = pd.to_datetime(df['date_added'], errors='coerce')\n",
        "\n",
        "# Group by year\n",
        "content_by_year = df['date_added'].dt.year.value_counts().sort_index()\n",
        "\n",
        "# Time series plot by year\n",
        "plt.figure(figsize=(10, 6))\n",
        "content_by_year.plot(kind='line', marker='o')\n",
        "plt.title('Content Added Over Time (Yearly)')\n",
        "plt.xlabel('Year')\n",
        "plt.ylabel('Number of Titles Added')\n",
        "plt.grid(True)\n",
        "plt.show()\n",
        "\n"
      ]
    },
    {
      "cell_type": "code",
      "execution_count": null,
      "metadata": {
        "id": "0RIbm4o6speU",
        "outputId": "f55d59c7-b820-4e05-a3c5-51fbaeecd49f"
      },
      "outputs": [
        {
          "data": {
            "image/png": "[encoded data removed]",
            "text/plain": [
              "<Figure size 864x432 with 1 Axes>"
            ]
          },
          "metadata": {
            "needs_background": "light"
          },
          "output_type": "display_data"
        }
      ],
      "source": [
        "content_by_month = df['date_added'].dt.to_period('M').value_counts().sort_index()\n",
        "\n",
        "# Time series plot by month\n",
        "plt.figure(figsize=(12, 6))\n",
        "content_by_month.plot(kind='line', marker='o')\n",
        "plt.title('Content Added Over Time (Monthly)')\n",
        "plt.xlabel('Month-Year')\n",
        "plt.ylabel('Number of Titles Added')\n",
        "plt.grid(True)\n",
        "plt.show()"
      ]
    },
    {
      "cell_type": "markdown",
      "metadata": {
        "id": "T7aMTvugspeU"
      },
      "source": [
        "## 6. Rating Distribution\n"
      ]
    },
    {
      "cell_type": "code",
      "execution_count": null,
      "metadata": {
        "id": "jqTfJUKKspeU",
        "outputId": "cd2d4ea1-0ca2-48bb-c901-447867a09119"
      },
      "outputs": [
        {
          "data": {
            "image/png": "[encoded data removed]",
            "text/plain": [
              "<Figure size 720x360 with 1 Axes>"
            ]
          },
          "metadata": {
            "needs_background": "light"
          },
          "output_type": "display_data"
        }
      ],
      "source": [
        "# Alternatively, bar chart for rating distribution\n",
        "plt.figure(figsize=(10, 5))\n",
        "sns.barplot(x=rating_counts.index, y=rating_counts.values, palette=\"Set2\")\n",
        "plt.title('Rating Distribution')\n",
        "plt.xlabel('Ratings')\n",
        "plt.ylabel('Count')\n",
        "plt.xticks(rotation=45)\n",
        "plt.show()"
      ]
    },
    {
      "cell_type": "code",
      "execution_count": null,
      "metadata": {
        "id": "tP7L_onbspeU",
        "outputId": "3454d389-2325-4864-9cf2-b6eb929297b0"
      },
      "outputs": [
        {
          "data": {
            "image/png": "[encoded data removed]",
            "text/plain": [
              "<Figure size 576x576 with 1 Axes>"
            ]
          },
          "metadata": {},
          "output_type": "display_data"
        }
      ],
      "source": [
        "rating_counts = df['rating'].value_counts()\n",
        "\n",
        "# Pie chart for rating distribution\n",
        "plt.figure(figsize=(8, 8))\n",
        "plt.pie(rating_counts.values, labels=rating_counts.index, autopct='%1.1f%%', startangle=90, colors=sns.color_palette('Set3'))\n",
        "plt.title('Rating Distribution')\n",
        "plt.show()\n",
        "\n"
      ]
    },
    {
      "cell_type": "code",
      "execution_count": null,
      "metadata": {
        "id": "1jT7LQ4UspeV"
      },
      "outputs": [],
      "source": []
    }
  ],
  "metadata": {
    "kernelspec": {
      "display_name": "base",
      "language": "python",
      "name": "python3"
    },
    "language_info": {
      "codemirror_mode": {
        "name": "ipython",
        "version": 3
      },
      "file_extension": ".py",
      "mimetype": "text/x-python",
      "name": "python",
      "nbconvert_exporter": "python",
      "pygments_lexer": "ipython3",
      "version": "3.8.8"
    },
    "colab": {
      "provenance": []
    }
  },
  "nbformat": 4,
  "nbformat_minor": 0
}